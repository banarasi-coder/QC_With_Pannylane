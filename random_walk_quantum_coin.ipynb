{
 "cells": [
  {
   "cell_type": "markdown",
   "metadata": {},
   "source": [
    "# Random walk with quantum coin\n",
    "\n",
    "Author: Mainak Bhattacharyya\n",
    "\n",
    "Reference: The Feynman's lectures on Physics volume I.\n",
    "\n",
    "The game: Virat starts walking from his house. He lives in a 1D world and he wants to reach the cricket stadium. Although he has no clue which direction he should prefer, so he toss a quantum coin.\n",
    "\n",
    "At each step he toss the coin. If the toss result is $0$, he chose to step backwards (towards left) and if the toss shows $1$, he moves forward (towards right).\n",
    "\n",
    "Task: \n",
    "1. How you choose the circuit for this quantum coin, such that the coin is unbiased?\n",
    "2. As the quantum coin is unbiased, will he ever move from his house? "
   ]
  },
  {
   "cell_type": "code",
   "execution_count": 34,
   "metadata": {},
   "outputs": [],
   "source": [
    "import pennylane as qml\n",
    "import matplotlib.pyplot as plt"
   ]
  },
  {
   "cell_type": "code",
   "execution_count": null,
   "metadata": {},
   "outputs": [],
   "source": [
    "# Define a quantum device.\n",
    "                             # Your code goes here\n",
    "\n",
    "# Define the quantum circuit (Quantum coin)\n",
    "\n",
    "                             # Your code goes here  "
   ]
  },
  {
   "cell_type": "code",
   "execution_count": null,
   "metadata": {},
   "outputs": [],
   "source": [
    "# Test the coin, toss once.\n",
    "quantum_coin()               # Your code goes here."
   ]
  },
  {
   "cell_type": "markdown",
   "metadata": {},
   "source": [
    "We characterize Virat's progress by the net distance `D` travelled in `N` number of steps."
   ]
  },
  {
   "cell_type": "code",
   "execution_count": null,
   "metadata": {},
   "outputs": [],
   "source": [
    "# The walk: Plot Net distance travelled as a function of number of steps taken.\n",
    "# Total number of steps\n",
    "N = 10_000\n",
    "# Net distance from start\n",
    "D = 0\n",
    "distance = []\n",
    "# Your code goes here ->\n"
   ]
  },
  {
   "cell_type": "markdown",
   "metadata": {},
   "source": [
    "The result shows an important feature of the random walk model.\n",
    "\n",
    "As the quantum coin is unbiased, one would expect that on average Virat should stay at his home. Although we see as the number of step increases, Virat tends to move away from his home."
   ]
  },
  {
   "cell_type": "code",
   "execution_count": null,
   "metadata": {},
   "outputs": [],
   "source": []
  }
 ],
 "metadata": {
  "kernelspec": {
   "display_name": "Python 3 (ipykernel)",
   "language": "python",
   "name": "python3"
  },
  "language_info": {
   "codemirror_mode": {
    "name": "ipython",
    "version": 3
   },
   "file_extension": ".py",
   "mimetype": "text/x-python",
   "name": "python",
   "nbconvert_exporter": "python",
   "pygments_lexer": "ipython3",
   "version": "3.12.10"
  }
 },
 "nbformat": 4,
 "nbformat_minor": 2
}
